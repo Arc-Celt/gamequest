{
 "cells": [
  {
   "cell_type": "code",
   "execution_count": 1,
   "id": "d8c577f4",
   "metadata": {},
   "outputs": [],
   "source": [
    "import polars as pl\n",
    "import os\n",
    "import json"
   ]
  },
  {
   "cell_type": "code",
   "execution_count": 3,
   "id": "701a7daa",
   "metadata": {},
   "outputs": [
    {
     "data": {
      "text/html": [
       "<div><style>\n",
       ".dataframe > thead > tr,\n",
       ".dataframe > tbody > tr {\n",
       "  text-align: right;\n",
       "  white-space: pre-wrap;\n",
       "}\n",
       "</style>\n",
       "<small>shape: (5, 14)</small><table border=\"1\" class=\"dataframe\"><thead><tr><th>id</th><th>title</th><th>release_date</th><th>moby_score</th><th>moby_url</th><th>description</th><th>platforms</th><th>genres</th><th>developers</th><th>publishers</th><th>sample_cover_url</th><th>sample_screenshot_urls</th><th>release_year</th><th>error</th></tr><tr><td>i64</td><td>str</td><td>str</td><td>f64</td><td>str</td><td>str</td><td>list[str]</td><td>list[str]</td><td>list[null]</td><td>list[null]</td><td>str</td><td>list[str]</td><td>i64</td><td>null</td></tr></thead><tbody><tr><td>4</td><td>&quot;Sid Meier&#x27;s Alpha Centauri&quot;</td><td>&quot;1999-02-09&quot;</td><td>8.0</td><td>&quot;https://www.mobygames.com/game…</td><td>&quot;&lt;p&gt;After the 20th century, hum…</td><td>[&quot;Windows&quot;, &quot;Macintosh&quot;]</td><td>[&quot;Strategy / tactics&quot;, &quot;Diagonal-down&quot;, … &quot;Sci-fi / futuristic&quot;]</td><td>[]</td><td>[]</td><td>&quot;https://cdn.mobygames.com/cove…</td><td>[&quot;https://cdn.mobygames.com/screenshots/16876257-sid-meiers-alpha-centauri-windows-choosing-a-faction.png&quot;, &quot;https://cdn.mobygames.com/screenshots/10393989-sid-meiers-alpha-centauri-windows-design-workshop.jpg&quot;, … &quot;https://cdn.mobygames.com/screenshots/16876134-sid-meiers-alpha-centauri-windows-main-menu.png&quot;]</td><td>1999</td><td>null</td></tr><tr><td>14</td><td>&quot;Chessmaster 5000&quot;</td><td>&quot;1996-01-01&quot;</td><td>7.6</td><td>&quot;https://www.mobygames.com/game…</td><td>&quot;&lt;p&gt;&lt;em&gt;Chessmaster 5000&lt;/em&gt; i…</td><td>[&quot;Windows&quot;]</td><td>[&quot;Strategy / tactics&quot;, &quot;Diagonal-down&quot;, … &quot;Point and select&quot;]</td><td>[]</td><td>[]</td><td>&quot;https://cdn.mobygames.com/cove…</td><td>[&quot;https://cdn.mobygames.com/screenshots/7924204-chessmaster-5000-windows-some-game-configuration-options.jpg&quot;, &quot;https://cdn.mobygames.com/screenshots/7924201-chessmaster-5000-windows-the-opening-book-editor-has-its-own-hel.jpg&quot;, … &quot;https://cdn.mobygames.com/screenshots/7924343-chessmaster-5000-windows-players-can-create-their-own-board-with.jpg&quot;]</td><td>1996</td><td>null</td></tr><tr><td>13</td><td>&quot;The Chessmaster 4000 Turbo&quot;</td><td>&quot;1993-01-01&quot;</td><td>8.0</td><td>&quot;https://www.mobygames.com/game…</td><td>&quot;&lt;p&gt;The first 32-bit title in t…</td><td>[&quot;Windows&quot;, &quot;Windows 16-bit&quot;]</td><td>[&quot;Strategy / tactics&quot;, &quot;Diagonal-down&quot;, … &quot;Point and select&quot;]</td><td>[]</td><td>[]</td><td>&quot;https://cdn.mobygames.com/cove…</td><td>[&quot;https://cdn.mobygames.com/screenshots/1724127-the-chessmaster-4000-turbo-windows-16-bit-a-chinese-board-style.png&quot;, &quot;https://cdn.mobygames.com/screenshots/1723927-the-chessmaster-4000-turbo-windows-16-bit-a-normal-board-style.png&quot;, … &quot;https://cdn.mobygames.com/screenshots/1724512-the-chessmaster-4000-turbo-windows-16-bit-a-lot-of-windows.png&quot;]</td><td>1993</td><td>null</td></tr><tr><td>12</td><td>&quot;The Chessmaster 3000&quot;</td><td>&quot;1991-01-01&quot;</td><td>7.6</td><td>&quot;https://www.mobygames.com/game…</td><td>&quot;&lt;p&gt;&lt;em&gt;Chessmaster 3000&lt;/em&gt; p…</td><td>[&quot;DOS&quot;, &quot;Windows 16-bit&quot;, &quot;Macintosh&quot;]</td><td>[&quot;Strategy / tactics&quot;, &quot;Diagonal-down&quot;, … &quot;Point and select&quot;]</td><td>[]</td><td>[]</td><td>&quot;https://cdn.mobygames.com/cove…</td><td>[&quot;https://cdn.mobygames.com/screenshots/7301801-the-chessmaster-3000-dos-changing-colors.png&quot;, &quot;https://cdn.mobygames.com/screenshots/11571561-the-chessmaster-3000-macintosh-five-moves-later-its-checkmate.png&quot;, … &quot;https://cdn.mobygames.com/screenshots/7301774-the-chessmaster-3000-dos-modern-chess-set-2d.png&quot;]</td><td>1991</td><td>null</td></tr><tr><td>1</td><td>&quot;The X-Files Game&quot;</td><td>&quot;1998-06-01&quot;</td><td>7.1</td><td>&quot;https://www.mobygames.com/game…</td><td>&quot;&lt;p&gt;As an extension of one of t…</td><td>[&quot;Windows&quot;, &quot;PlayStation&quot;, &quot;Macintosh&quot;]</td><td>[&quot;Adventure&quot;, &quot;1st-person&quot;, … &quot;Licensed&quot;]</td><td>[]</td><td>[]</td><td>&quot;https://cdn.mobygames.com/cove…</td><td>[&quot;https://cdn.mobygames.com/screenshots/11077669-the-x-files-game-windows-outside-agent-craig-willmores-apartment.jpg&quot;, &quot;https://cdn.mobygames.com/screenshots/11072410-the-x-files-game-windows-official-fbi-document.jpg&quot;, … &quot;https://cdn.mobygames.com/screenshots/10471118-the-x-files-game-playstation-exchanging-information-and-acquaint.jpg&quot;]</td><td>1998</td><td>null</td></tr></tbody></table></div>"
      ],
      "text/plain": [
       "shape: (5, 14)\n",
       "┌─────┬─────────────┬─────────────┬────────────┬───┬─────────────┬────────────┬────────────┬───────┐\n",
       "│ id  ┆ title       ┆ release_dat ┆ moby_score ┆ … ┆ sample_cove ┆ sample_scr ┆ release_ye ┆ error │\n",
       "│ --- ┆ ---         ┆ e           ┆ ---        ┆   ┆ r_url       ┆ eenshot_ur ┆ ar         ┆ ---   │\n",
       "│ i64 ┆ str         ┆ ---         ┆ f64        ┆   ┆ ---         ┆ ls         ┆ ---        ┆ null  │\n",
       "│     ┆             ┆ str         ┆            ┆   ┆ str         ┆ ---        ┆ i64        ┆       │\n",
       "│     ┆             ┆             ┆            ┆   ┆             ┆ list[str]  ┆            ┆       │\n",
       "╞═════╪═════════════╪═════════════╪════════════╪═══╪═════════════╪════════════╪════════════╪═══════╡\n",
       "│ 4   ┆ Sid Meier's ┆ 1999-02-09  ┆ 8.0        ┆ … ┆ https://cdn ┆ [\"https:// ┆ 1999       ┆ null  │\n",
       "│     ┆ Alpha       ┆             ┆            ┆   ┆ .mobygames. ┆ cdn.mobyga ┆            ┆       │\n",
       "│     ┆ Centauri    ┆             ┆            ┆   ┆ com/cove…   ┆ mes.com/sc ┆            ┆       │\n",
       "│     ┆             ┆             ┆            ┆   ┆             ┆ …          ┆            ┆       │\n",
       "│ 14  ┆ Chessmaster ┆ 1996-01-01  ┆ 7.6        ┆ … ┆ https://cdn ┆ [\"https:// ┆ 1996       ┆ null  │\n",
       "│     ┆ 5000        ┆             ┆            ┆   ┆ .mobygames. ┆ cdn.mobyga ┆            ┆       │\n",
       "│     ┆             ┆             ┆            ┆   ┆ com/cove…   ┆ mes.com/sc ┆            ┆       │\n",
       "│     ┆             ┆             ┆            ┆   ┆             ┆ …          ┆            ┆       │\n",
       "│ 13  ┆ The         ┆ 1993-01-01  ┆ 8.0        ┆ … ┆ https://cdn ┆ [\"https:// ┆ 1993       ┆ null  │\n",
       "│     ┆ Chessmaster ┆             ┆            ┆   ┆ .mobygames. ┆ cdn.mobyga ┆            ┆       │\n",
       "│     ┆ 4000 Turbo  ┆             ┆            ┆   ┆ com/cove…   ┆ mes.com/sc ┆            ┆       │\n",
       "│     ┆             ┆             ┆            ┆   ┆             ┆ …          ┆            ┆       │\n",
       "│ 12  ┆ The         ┆ 1991-01-01  ┆ 7.6        ┆ … ┆ https://cdn ┆ [\"https:// ┆ 1991       ┆ null  │\n",
       "│     ┆ Chessmaster ┆             ┆            ┆   ┆ .mobygames. ┆ cdn.mobyga ┆            ┆       │\n",
       "│     ┆ 3000        ┆             ┆            ┆   ┆ com/cove…   ┆ mes.com/sc ┆            ┆       │\n",
       "│     ┆             ┆             ┆            ┆   ┆             ┆ …          ┆            ┆       │\n",
       "│ 1   ┆ The X-Files ┆ 1998-06-01  ┆ 7.1        ┆ … ┆ https://cdn ┆ [\"https:// ┆ 1998       ┆ null  │\n",
       "│     ┆ Game        ┆             ┆            ┆   ┆ .mobygames. ┆ cdn.mobyga ┆            ┆       │\n",
       "│     ┆             ┆             ┆            ┆   ┆ com/cove…   ┆ mes.com/sc ┆            ┆       │\n",
       "│     ┆             ┆             ┆            ┆   ┆             ┆ …          ┆            ┆       │\n",
       "└─────┴─────────────┴─────────────┴────────────┴───┴─────────────┴────────────┴────────────┴───────┘"
      ]
     },
     "execution_count": 3,
     "metadata": {},
     "output_type": "execute_result"
    }
   ],
   "source": [
    "df = pl.read_ndjson('../data/mobygames_index.jsonl')\n",
    "df.head()"
   ]
  },
  {
   "cell_type": "code",
   "execution_count": 5,
   "id": "1037bf02",
   "metadata": {},
   "outputs": [
    {
     "data": {
      "text/html": [
       "<div><style>\n",
       ".dataframe > thead > tr,\n",
       ".dataframe > tbody > tr {\n",
       "  text-align: right;\n",
       "  white-space: pre-wrap;\n",
       "}\n",
       "</style>\n",
       "<small>shape: (5, 2)</small><table border=\"1\" class=\"dataframe\"><thead><tr><th>game_id</th><th>embedding</th></tr><tr><td>i64</td><td>list[f64]</td></tr></thead><tbody><tr><td>1</td><td>[-0.040362, -0.079261, … -0.04446]</td></tr><tr><td>2</td><td>[-0.082043, -0.040053, … -0.015202]</td></tr><tr><td>3</td><td>[-0.094168, -0.073465, … 0.023527]</td></tr><tr><td>4</td><td>[-0.047253, 0.021216, … -0.043057]</td></tr><tr><td>5</td><td>[0.031966, 0.086129, … 0.061764]</td></tr></tbody></table></div>"
      ],
      "text/plain": [
       "shape: (5, 2)\n",
       "┌─────────┬─────────────────────────────────┐\n",
       "│ game_id ┆ embedding                       │\n",
       "│ ---     ┆ ---                             │\n",
       "│ i64     ┆ list[f64]                       │\n",
       "╞═════════╪═════════════════════════════════╡\n",
       "│ 1       ┆ [-0.040362, -0.079261, … -0.04… │\n",
       "│ 2       ┆ [-0.082043, -0.040053, … -0.01… │\n",
       "│ 3       ┆ [-0.094168, -0.073465, … 0.023… │\n",
       "│ 4       ┆ [-0.047253, 0.021216, … -0.043… │\n",
       "│ 5       ┆ [0.031966, 0.086129, … 0.06176… │\n",
       "└─────────┴─────────────────────────────────┘"
      ]
     },
     "execution_count": 5,
     "metadata": {},
     "output_type": "execute_result"
    }
   ],
   "source": [
    "desc_emb = pl.read_ndjson('../embeddings/desc_embeddings.jsonl')\n",
    "desc_emb.head()"
   ]
  },
  {
   "cell_type": "code",
   "execution_count": 8,
   "id": "be23690b",
   "metadata": {},
   "outputs": [
    {
     "data": {
      "text/html": [
       "<div><style>\n",
       ".dataframe > thead > tr,\n",
       ".dataframe > tbody > tr {\n",
       "  text-align: right;\n",
       "  white-space: pre-wrap;\n",
       "}\n",
       "</style>\n",
       "<small>shape: (5, 2)</small><table border=\"1\" class=\"dataframe\"><thead><tr><th>game_id</th><th>cover_embedding</th></tr><tr><td>str</td><td>list[f64]</td></tr></thead><tbody><tr><td>&quot;1&quot;</td><td>[0.444879, -0.773201, … 0.276423]</td></tr><tr><td>&quot;2&quot;</td><td>[0.723642, 1.28492, … 0.571715]</td></tr><tr><td>&quot;3&quot;</td><td>[-0.032582, 0.503212, … 0.117423]</td></tr><tr><td>&quot;4&quot;</td><td>[-0.132613, -0.102314, … 0.041274]</td></tr><tr><td>&quot;5&quot;</td><td>[2.363587, -0.869756, … -0.236085]</td></tr></tbody></table></div>"
      ],
      "text/plain": [
       "shape: (5, 2)\n",
       "┌─────────┬─────────────────────────────────┐\n",
       "│ game_id ┆ cover_embedding                 │\n",
       "│ ---     ┆ ---                             │\n",
       "│ str     ┆ list[f64]                       │\n",
       "╞═════════╪═════════════════════════════════╡\n",
       "│ 1       ┆ [0.444879, -0.773201, … 0.2764… │\n",
       "│ 2       ┆ [0.723642, 1.28492, … 0.571715… │\n",
       "│ 3       ┆ [-0.032582, 0.503212, … 0.1174… │\n",
       "│ 4       ┆ [-0.132613, -0.102314, … 0.041… │\n",
       "│ 5       ┆ [2.363587, -0.869756, … -0.236… │\n",
       "└─────────┴─────────────────────────────────┘"
      ]
     },
     "execution_count": 8,
     "metadata": {},
     "output_type": "execute_result"
    }
   ],
   "source": [
    "cover_emb = pl.read_ndjson('../embeddings/cover_embeddings.jsonl')\n",
    "cover_emb.head()"
   ]
  },
  {
   "cell_type": "code",
   "execution_count": 9,
   "id": "32b051f8",
   "metadata": {},
   "outputs": [
    {
     "data": {
      "text/html": [
       "<div><style>\n",
       ".dataframe > thead > tr,\n",
       ".dataframe > tbody > tr {\n",
       "  text-align: right;\n",
       "  white-space: pre-wrap;\n",
       "}\n",
       "</style>\n",
       "<small>shape: (5, 3)</small><table border=\"1\" class=\"dataframe\"><thead><tr><th>game_id</th><th>screenshot_embedding</th><th>num_screenshots</th></tr><tr><td>str</td><td>list[f64]</td><td>i64</td></tr></thead><tbody><tr><td>&quot;2&quot;</td><td>[1.528382, 0.038477, … -0.049169]</td><td>5</td></tr><tr><td>&quot;3&quot;</td><td>[0.606195, 0.432904, … 0.177745]</td><td>5</td></tr><tr><td>&quot;4&quot;</td><td>[-0.544538, 0.209987, … 0.829974]</td><td>2</td></tr><tr><td>&quot;5&quot;</td><td>[0.20944, 0.460073, … 0.050815]</td><td>5</td></tr><tr><td>&quot;7&quot;</td><td>[-0.945326, 0.329909, … 0.665487]</td><td>5</td></tr></tbody></table></div>"
      ],
      "text/plain": [
       "shape: (5, 3)\n",
       "┌─────────┬─────────────────────────────────┬─────────────────┐\n",
       "│ game_id ┆ screenshot_embedding            ┆ num_screenshots │\n",
       "│ ---     ┆ ---                             ┆ ---             │\n",
       "│ str     ┆ list[f64]                       ┆ i64             │\n",
       "╞═════════╪═════════════════════════════════╪═════════════════╡\n",
       "│ 2       ┆ [1.528382, 0.038477, … -0.0491… ┆ 5               │\n",
       "│ 3       ┆ [0.606195, 0.432904, … 0.17774… ┆ 5               │\n",
       "│ 4       ┆ [-0.544538, 0.209987, … 0.8299… ┆ 2               │\n",
       "│ 5       ┆ [0.20944, 0.460073, … 0.050815… ┆ 5               │\n",
       "│ 7       ┆ [-0.945326, 0.329909, … 0.6654… ┆ 5               │\n",
       "└─────────┴─────────────────────────────────┴─────────────────┘"
      ]
     },
     "execution_count": 9,
     "metadata": {},
     "output_type": "execute_result"
    }
   ],
   "source": [
    "screenshot_emb = pl.read_ndjson('../embeddings/screenshot_embeddings.jsonl')\n",
    "screenshot_emb.head()"
   ]
  },
  {
   "cell_type": "code",
   "execution_count": 7,
   "id": "c11bb130",
   "metadata": {},
   "outputs": [
    {
     "name": "stdout",
     "output_type": "stream",
     "text": [
      "Metadata only: 90370\n",
      "Embeddings only: 0\n"
     ]
    }
   ],
   "source": [
    "metadata_ids = set(df['id'].to_list())\n",
    "embedding_ids = set(desc_emb['game_id'].to_list())\n",
    "\n",
    "print(\"Metadata only:\", len(metadata_ids - embedding_ids))\n",
    "print(\"Embeddings only:\", len(embedding_ids - metadata_ids))"
   ]
  },
  {
   "cell_type": "code",
   "execution_count": 10,
   "id": "71cf156e",
   "metadata": {},
   "outputs": [
    {
     "name": "stdout",
     "output_type": "stream",
     "text": [
      "Covers only: 78433\n",
      "Desc only: 41162\n",
      "Covers & Desc intersection: 56735\n"
     ]
    }
   ],
   "source": [
    "desc_ids = set(desc_emb['game_id'].to_list())\n",
    "cover_ids = set([int(x) for x in cover_emb['game_id'].to_list()])\n",
    "\n",
    "print(\"Covers only:\", len(cover_ids - desc_ids))\n",
    "print(\"Desc only:\", len(desc_ids - cover_ids))\n",
    "print(\"Covers & Desc intersection:\", len(cover_ids & desc_ids))"
   ]
  },
  {
   "cell_type": "code",
   "execution_count": 12,
   "id": "d760e2b8",
   "metadata": {},
   "outputs": [
    {
     "name": "stdout",
     "output_type": "stream",
     "text": [
      "Screenshots only: 1989\n",
      "Desc only: 52291\n",
      "Screenshots & Desc intersection: 45606\n"
     ]
    }
   ],
   "source": [
    "screenshot_ids = set([int(x) for x in screenshot_emb['game_id'].to_list()])\n",
    "\n",
    "print(\"Screenshots only:\", len(screenshot_ids - desc_ids))\n",
    "print(\"Desc only:\", len(desc_ids - screenshot_ids))\n",
    "print(\"Screenshots & Desc intersection:\", len(screenshot_ids & desc_ids))"
   ]
  },
  {
   "cell_type": "code",
   "execution_count": 13,
   "id": "9c301868",
   "metadata": {},
   "outputs": [
    {
     "name": "stdout",
     "output_type": "stream",
     "text": [
      "Games with all three embeddings: 21530\n"
     ]
    }
   ],
   "source": [
    "all_three = desc_ids & cover_ids & screenshot_ids\n",
    "print(\"Games with all three embeddings:\", len(all_three))"
   ]
  }
 ],
 "metadata": {
  "kernelspec": {
   "display_name": ".game",
   "language": "python",
   "name": "python3"
  },
  "language_info": {
   "codemirror_mode": {
    "name": "ipython",
    "version": 3
   },
   "file_extension": ".py",
   "mimetype": "text/x-python",
   "name": "python",
   "nbconvert_exporter": "python",
   "pygments_lexer": "ipython3",
   "version": "3.12.5"
  }
 },
 "nbformat": 4,
 "nbformat_minor": 5
}
