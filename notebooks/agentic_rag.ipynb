{
 "cells": [
  {
   "cell_type": "markdown",
   "metadata": {
    "vscode": {
     "languageId": "raw"
    }
   },
   "source": [
    "# Agentic RAG for Game Recommendation - Complete Tutorial\n",
    "\n",
    "Welcome! This notebook will guide you through building an intelligent agent that can understand complex queries and provide smart game recommendations.\n",
    "\n",
    "## What You'll Learn:\n",
    "1. **Agentic RAG Concepts**: How agents think and reason\n",
    "2. **Tool Integration**: Connecting your existing retrieval systems\n",
    "3. **Local Model Setup**: Running everything offline\n",
    "4. **Advanced Query Handling**: Multi-step reasoning and context awareness\n",
    "\n",
    "## Prerequisites:\n",
    "- Your existing RAG system (from reranking.ipynb)\n",
    "- Basic Python knowledge\n",
    "- Curiosity about AI agents! 🤖"
   ]
  },
  {
   "cell_type": "markdown",
   "metadata": {
    "vscode": {
     "languageId": "raw"
    }
   },
   "source": [
    "## Step 1: Understanding Agentic RAG\n",
    "\n",
    "### What's the difference between regular RAG and Agentic RAG?\n",
    "\n",
    "**Regular RAG**: Query → Retrieve → Generate\n",
    "- Simple, linear process\n",
    "- Limited reasoning\n",
    "\n",
    "**Agentic RAG**: Query → Think → Plan → Retrieve → Reason → Generate\n",
    "- Multi-step reasoning\n",
    "- Can use multiple tools\n",
    "- Self-correcting and adaptive\n",
    "\n",
    "### Example:\n",
    "- **Regular RAG**: \"Find games like Don't Starve\" → Direct similarity search\n",
    "- **Agentic RAG**: \"I want a survival game that's challenging but not too dark\" → \n",
    "  1. Understands \"survival\" genre\n",
    "  2. Searches for survival games\n",
    "  3. Filters by difficulty and tone\n",
    "  4. Explains why each recommendation fits"
   ]
  },
  {
   "cell_type": "code",
   "execution_count": 18,
   "metadata": {},
   "outputs": [
    {
     "name": "stdout",
     "output_type": "stream",
     "text": [
      "✅ Packages installed successfully!\n"
     ]
    }
   ],
   "source": [
    "# First, let's install the required packages\n",
    "# Run this cell to install LlamaIndex and other dependencies\n",
    "\n",
    "# %pip install llama-index llama-index-llms-ollama llama-index-embeddings-huggingface\n",
    "# %pip install ollama\n",
    "\n",
    "print(\"✅ Packages installed successfully!\")"
   ]
  },
  {
   "cell_type": "code",
   "execution_count": 1,
   "metadata": {},
   "outputs": [
    {
     "name": "stdout",
     "output_type": "stream",
     "text": [
      "✅ All imports successful!\n"
     ]
    }
   ],
   "source": [
    "import chromadb\n",
    "import polars as pl\n",
    "from chromadb.config import Settings, DEFAULT_TENANT, DEFAULT_DATABASE\n",
    "from sentence_transformers import SentenceTransformer, CrossEncoder\n",
    "from transformers import AutoImageProcessor, AutoModel\n",
    "from PIL import Image\n",
    "import torch\n",
    "import re\n",
    "import json\n",
    "from typing import List, Dict, Any\n",
    "\n",
    "from llama_index.llms.ollama import Ollama\n",
    "from llama_index.embeddings.huggingface import HuggingFaceEmbedding\n",
    "from llama_index.core.tools import FunctionTool\n",
    "from llama_index.core.agent import ReActAgent\n",
    "from llama_index.core import ServiceContext\n",
    "\n",
    "print(\"✅ All imports successful!\")"
   ]
  },
  {
   "cell_type": "markdown",
   "metadata": {
    "vscode": {
     "languageId": "raw"
    }
   },
   "source": [
    "## Step 2: Setting Up Your Local LLM\n",
    "\n",
    "### Why Local Models?\n",
    "- **Privacy**: Your data stays on your machine\n",
    "- **Cost**: No API fees\n",
    "- **Control**: Customize for your specific needs\n",
    "- **Offline**: Works without internet\n",
    "\n",
    "### Let's set up Ollama (easiest way to run local LLMs)\n"
   ]
  },
  {
   "cell_type": "code",
   "execution_count": 2,
   "metadata": {},
   "outputs": [
    {
     "name": "stdout",
     "output_type": "stream",
     "text": [
      "✅ LLM loaded: qwen3:0.6b\n"
     ]
    }
   ],
   "source": [
    "# First, you need to install Ollama on your system\n",
    "# Go to: https://ollama.ai/download\n",
    "# Then run these commands in your terminal:\n",
    "\n",
    "llm = Ollama(\n",
    "    model=\"qwen3:0.6b\", \n",
    "    request_timeout=60.0,\n",
    "    temperature=0.1,\n",
    "    top_p=0.9,\n",
    "    additional_kwargs={\"tool_choice\": \"auto\"}\n",
    ")\n",
    "print(f\"✅ LLM loaded: {llm.model}\")"
   ]
  },
  {
   "cell_type": "markdown",
   "metadata": {
    "vscode": {
     "languageId": "raw"
    }
   },
   "source": [
    "## Step 3: Loading Your Existing RAG System\n",
    "\n",
    "We'll reuse your existing retrieval and reranking components. This is the beauty of Agentic RAG - it builds on what you already have!\n"
   ]
  },
  {
   "cell_type": "code",
   "execution_count": 3,
   "metadata": {},
   "outputs": [
    {
     "name": "stdout",
     "output_type": "stream",
     "text": [
      "🔄 Loading your existing RAG system...\n"
     ]
    },
    {
     "name": "stderr",
     "output_type": "stream",
     "text": [
      "Using a slow image processor as `use_fast` is unset and a slow processor was saved with this model. `use_fast=True` will be the default behavior in v4.52, even if the model was saved with a slow processor. This will result in minor differences in outputs. You'll still be able to use a slow processor with `use_fast=False`.\n"
     ]
    },
    {
     "name": "stdout",
     "output_type": "stream",
     "text": [
      "✅ All components loaded successfully!\n",
      "📊 Metadata: 188267 games\n",
      "📊 Critics: 609000 reviews\n"
     ]
    }
   ],
   "source": [
    "# Load your existing models and data\n",
    "print(\"🔄 Loading your existing RAG system...\")\n",
    "\n",
    "# ChromaDB client\n",
    "client = chromadb.PersistentClient(\n",
    "    path=\"../chroma_db\",\n",
    "    settings=Settings(),\n",
    "    tenant=DEFAULT_TENANT,\n",
    "    database=DEFAULT_DATABASE,\n",
    ")\n",
    "\n",
    "# Load models\n",
    "desc_encoder = SentenceTransformer(\"../models/all-MiniLM-L6-v2\")\n",
    "reranker = CrossEncoder(\"../models/bge-reranker-base-crossencoder\")\n",
    "processor = AutoImageProcessor.from_pretrained(\"../models/dinov2-base\")\n",
    "viz_encoder = AutoModel.from_pretrained(\"../models/dinov2-base\")\n",
    "\n",
    "# Load metadata\n",
    "metadata = pl.read_ndjson('../data/mobygames_index.jsonl')\n",
    "critics_emb = pl.read_ndjson('../embeddings/critics_embeddings.jsonl')\n",
    "critics_reviews = pl.read_ndjson('../data/mobygames_critic_reviews.jsonl')\n",
    "\n",
    "# Get collections\n",
    "desc_collection = client.get_or_create_collection(\"desc_embeddings\")\n",
    "critics_collection = client.get_or_create_collection(\"critics_embeddings\")\n",
    "cover_collection = client.get_or_create_collection(\"cover_embeddings\")\n",
    "screenshot_collection = client.get_or_create_collection(\"screenshot_embeddings\")\n",
    "\n",
    "print(\"✅ All components loaded successfully!\")\n",
    "print(f\"📊 Metadata: {metadata.height} games\")\n",
    "print(f\"📊 Critics: {critics_reviews.height} reviews\")"
   ]
  },
  {
   "cell_type": "code",
   "execution_count": 4,
   "metadata": {},
   "outputs": [
    {
     "name": "stdout",
     "output_type": "stream",
     "text": [
      "✅ Utility functions ready!\n"
     ]
    }
   ],
   "source": [
    "# Utility functions\n",
    "def clean_html(text):\n",
    "    if hasattr(text, 'item'):\n",
    "        text = text.item()\n",
    "    return re.sub('<[^<]+?>', '', str(text))\n",
    "\n",
    "def get_all_critic_quotes(game_id, critics_collection):\n",
    "    # Get review IDs from ChromaDB for this game\n",
    "    results = critics_collection.get(\n",
    "        where={\"game_id\": str(game_id)},\n",
    "        include=[]\n",
    "    )\n",
    "    quotes = []\n",
    "    for review_id in results[\"ids\"]:\n",
    "        # Find the actual review text in the critics_reviews DataFrame\n",
    "        critic_row = critics_reviews.filter(pl.col(\"review_id\") == int(review_id))\n",
    "        if critic_row.height > 0:\n",
    "            quotes.append(clean_html(critic_row[0][\"citation\"]) if \"citation\" in critic_row.columns else \"\")\n",
    "    return quotes\n",
    "\n",
    "def format_game_result(game_data, score=None):\n",
    "    \"\"\"Format a game result for display\"\"\"\n",
    "    result = f\"🎮 {game_data['title']}\"\n",
    "    if score:\n",
    "        result += f\" (Score: {score:.2f})\"\n",
    "    result += f\"\\n📝 {game_data['description'][:200]}...\"\n",
    "    if game_data.get('critic'):\n",
    "        result += f\"\\n⭐ Critics: {game_data['critic'][:100]}...\"\n",
    "    return result\n",
    "\n",
    "print(\"✅ Utility functions ready!\")\n"
   ]
  },
  {
   "cell_type": "markdown",
   "metadata": {
    "vscode": {
     "languageId": "raw"
    }
   },
   "source": [
    "## Step 4: Creating Agent Tools\n",
    "\n",
    "### What are Tools?\n",
    "Tools are functions that your agent can call to perform specific tasks. Think of them as the agent's \"hands\" - it can use them to interact with your data.\n",
    "\n",
    "### We'll create 3 main tools:\n",
    "1. **Text Search Tool**: Find games by description\n",
    "2. **Image Search Tool**: Find games by visual similarity  \n",
    "3. **Filter Tool**: Apply additional filters (genre, platform, etc.)\n"
   ]
  },
  {
   "cell_type": "code",
   "execution_count": 5,
   "metadata": {},
   "outputs": [
    {
     "name": "stdout",
     "output_type": "stream",
     "text": [
      "🔍 Searching for: 'survival games with crafting'\n",
      "🧪 Testing text search tool:\n",
      "Found 2 games matching 'survival games with crafting':\n",
      "\n",
      "1. 🎮 Craft the World (Score: 0.79)\n",
      "📝 Craft The World is a 2D sandbox strategy game, combining the gameplay elements of Terraria and Dwarf Fortress into its own fantasy world, where a group of dwarves attempts to survive against onslaught...\n",
      "⭐ Critics: Craft the World is a solid game.  Resources are plentiful and creatures are sporadic enough to reall...\n",
      "\n",
      "2. 🎮 Craft (Score: 0.57)\n",
      "📝 Craft is a puzzle game where the player is presented with a number of tiles where each piece has a part of a circuit. The objective is to create a complete circuit from an entry point to an exit so th...\n",
      "\n",
      "\n"
     ]
    }
   ],
   "source": [
    "# Tool 1: Text Search\n",
    "def text_search_tool(query: str, num_results: int = 10) -> str:\n",
    "    \"\"\"\n",
    "    Search for games using text descriptions and reviews.\n",
    "    \n",
    "    Args:\n",
    "        query: Text description of what you're looking for\n",
    "        num_results: Number of results to return (default: 10)\n",
    "    \n",
    "    Returns:\n",
    "        Formatted string with game recommendations\n",
    "    \"\"\"\n",
    "    print(f\"🔍 Searching for: '{query}'\")\n",
    "    \n",
    "    # Get embeddings for both descriptions and critics\n",
    "    query_embedding = desc_encoder.encode(query)\n",
    "    \n",
    "    # Search descriptions\n",
    "    desc_results = desc_collection.query(\n",
    "        query_embeddings=[query_embedding],\n",
    "        n_results=num_results//2,\n",
    "        include=[\"metadatas\", \"distances\"]\n",
    "    )\n",
    "    \n",
    "    # Search critics\n",
    "    critics_results = critics_collection.query(\n",
    "        query_embeddings=[query_embedding],\n",
    "        n_results=num_results//2,\n",
    "        include=[\"metadatas\", \"distances\"]\n",
    "    )\n",
    "    \n",
    "    # Combine and deduplicate\n",
    "    candidates = []\n",
    "    game_ids = set()\n",
    "    \n",
    "    for meta_list in [desc_results[\"metadatas\"][0], critics_results[\"metadatas\"][0]]:\n",
    "        for meta in meta_list:\n",
    "            game_id = int(meta[\"game_id\"])\n",
    "            if game_id not in game_ids:\n",
    "                row = metadata.filter(pl.col(\"id\") == game_id)\n",
    "                if row.height > 0:\n",
    "                    row = row[0]\n",
    "                    critic_quotes = get_all_critic_quotes(game_id, critics_collection)\n",
    "                    critic_text = \" | \".join(critic_quotes) if critic_quotes else \"\"\n",
    "                    candidates.append({\n",
    "                        \"game_id\": game_id,\n",
    "                        \"title\": clean_html(row[\"title\"]),\n",
    "                        \"description\": clean_html(row[\"description\"]),\n",
    "                        \"critic\": critic_text,\n",
    "                    })\n",
    "                    game_ids.add(game_id)\n",
    "    \n",
    "    # Rerank using cross-encoder\n",
    "    pairs = []\n",
    "    for c in candidates:\n",
    "        desc = clean_html(c['description'])\n",
    "        critic = clean_html(c['critic'])\n",
    "        candidate_text = f\"{c['title']}. {desc} Critics: {critic}\"\n",
    "        pairs.append([query, candidate_text])\n",
    "    \n",
    "    scores = reranker.predict(pairs, batch_size=16)\n",
    "    reranked = sorted(zip(candidates, scores), key=lambda x: x[1], reverse=True)\n",
    "    \n",
    "    # Format results\n",
    "    result = f\"Found {len(reranked)} games matching '{query}':\\n\\n\"\n",
    "    for i, (c, score) in enumerate(reranked[:num_results], 1):\n",
    "        result += f\"{i}. {format_game_result(c, score)}\\n\\n\"\n",
    "    \n",
    "    return result\n",
    "\n",
    "# Test the tool\n",
    "test_result = text_search_tool(\"survival games with crafting\", 3)\n",
    "print(\"🧪 Testing text search tool:\")\n",
    "print(test_result)\n"
   ]
  },
  {
   "cell_type": "code",
   "execution_count": 6,
   "metadata": {},
   "outputs": [
    {
     "name": "stdout",
     "output_type": "stream",
     "text": [
      "🖼️ Searching for games similar to: ../data/sample.jpg\n",
      "🧪 Testing image search tool:\n",
      "Found 2 visually similar games:\n",
      "\n",
      "1. 🎮 Don't Starve + Reign of Giants (Score: -1324.51)\n",
      "📝 This edition includes:* Don't Starve (base game)\n",
      "\n",
      "Don't Starve: Reign of Giants (DLC)\n",
      "\n",
      "For the PlayStation Vita, PS3, Wii U, Xbox One and iOS this is the first and only release of the game. For PC and...\n",
      "⭐ Critics: Also, the iPad version comes with the Rise of Giants DLC already included, which adds the Wetness ga...\n",
      "\n",
      "2. 🎮 Spirits & Spells (Score: -1446.95)\n",
      "📝 In Spirits and Spells the player takes the role of the two kids Alicia and Greg which visit a spooky old house with their friends. Unfortunately the Bogeyman steals the soles of their friends and turn...\n",
      "⭐ Critics: Indeed I was starting to question if it had indeed been released at all. As a result it probably did...\n",
      "\n",
      "\n"
     ]
    }
   ],
   "source": [
    "# Tool 2: Image Search\n",
    "def image_search_tool(image_path: str, num_results: int = 10) -> str:\n",
    "    \"\"\"\n",
    "    Search for games using image similarity.\n",
    "    \n",
    "    Args:\n",
    "        image_path: Path to the image file\n",
    "        num_results: Number of results to return (default: 10)\n",
    "    \n",
    "    Returns:\n",
    "        Formatted string with visually similar games\n",
    "    \"\"\"\n",
    "    print(f\"🖼️ Searching for games similar to: {image_path}\")\n",
    "    \n",
    "    # Load and process image\n",
    "    image = Image.open(image_path).convert(\"RGB\")\n",
    "    inputs = processor(images=image, return_tensors=\"pt\")\n",
    "    inputs = {k: v.to(viz_encoder.device) for k, v in inputs.items()}\n",
    "    \n",
    "    # Get image embedding\n",
    "    with torch.no_grad():\n",
    "        outputs = viz_encoder(**inputs)\n",
    "        image_embedding = outputs.last_hidden_state[:, 0, :].squeeze().cpu().numpy()\n",
    "    \n",
    "    # Search both cover and screenshot collections\n",
    "    cover_results = cover_collection.query(\n",
    "        query_embeddings=[image_embedding],\n",
    "        n_results=num_results//2,\n",
    "        include=[\"metadatas\", \"distances\"]\n",
    "    )\n",
    "    \n",
    "    screenshot_results = screenshot_collection.query(\n",
    "        query_embeddings=[image_embedding],\n",
    "        n_results=num_results//2,\n",
    "        include=[\"metadatas\", \"distances\"]\n",
    "    )\n",
    "    \n",
    "    # Combine results\n",
    "    candidates = []\n",
    "    game_ids = set()\n",
    "    \n",
    "    for meta_list in [cover_results[\"metadatas\"][0], screenshot_results[\"metadatas\"][0]]:\n",
    "        for meta in meta_list:\n",
    "            game_id = int(meta[\"game_id\"])\n",
    "            if game_id not in game_ids:\n",
    "                row = metadata.filter(pl.col(\"id\") == game_id)\n",
    "                if row.height > 0:\n",
    "                    row = row[0]\n",
    "                    critic_quotes = get_all_critic_quotes(game_id, critics_collection)\n",
    "                    critic_text = \" | \".join(critic_quotes) if critic_quotes else \"\"\n",
    "                    candidates.append({\n",
    "                        \"game_id\": game_id,\n",
    "                        \"title\": clean_html(row[\"title\"]),\n",
    "                        \"description\": clean_html(row[\"description\"]),\n",
    "                        \"critic\": critic_text,\n",
    "                    })\n",
    "                    game_ids.add(game_id)\n",
    "    \n",
    "    # Calculate similarity scores (normalize distances)\n",
    "    cover_scores = {int(meta[\"game_id\"]): 1 - dist for meta, dist in zip(cover_results[\"metadatas\"][0], cover_results[\"distances\"][0])}\n",
    "    screenshot_scores = {int(meta[\"game_id\"]): 1 - dist for meta, dist in zip(screenshot_results[\"metadatas\"][0], screenshot_results[\"distances\"][0])}\n",
    "    \n",
    "    # Score and rank\n",
    "    for c in candidates:\n",
    "        gid = c[\"game_id\"]\n",
    "        c[\"score\"] = cover_scores.get(gid, 0) + screenshot_scores.get(gid, 0)\n",
    "    \n",
    "    reranked = sorted(candidates, key=lambda x: x[\"score\"], reverse=True)\n",
    "    \n",
    "    # Format results\n",
    "    result = f\"Found {len(reranked)} visually similar games:\\n\\n\"\n",
    "    for i, c in enumerate(reranked[:num_results], 1):\n",
    "        result += f\"{i}. {format_game_result(c, c.get('score'))}\\n\\n\"\n",
    "    \n",
    "    return result\n",
    "\n",
    "# Test the tool (if you have a sample image)\n",
    "try:\n",
    "    test_result = image_search_tool(\"../data/sample.jpg\", 3)\n",
    "    print(\"🧪 Testing image search tool:\")\n",
    "    print(test_result)\n",
    "except FileNotFoundError:\n",
    "    print(\"⚠️ Sample image not found. Tool ready for use!\")\n"
   ]
  },
  {
   "cell_type": "markdown",
   "metadata": {
    "vscode": {
     "languageId": "raw"
    }
   },
   "source": [
    "## Step 5: Creating the Agent\n",
    "\n",
    "### What is an Agent?\n",
    "An agent is like a smart assistant that can:\n",
    "- **Think** about what you're asking\n",
    "- **Plan** how to find the best answer\n",
    "- **Use tools** to search and filter\n",
    "- **Reason** about the results\n",
    "- **Explain** its recommendations\n",
    "\n",
    "### The ReAct Pattern:\n",
    "- **Reasoning**: Why am I doing this?\n",
    "- **Acting**: What tool should I use?\n",
    "- **Observing**: What did I learn?\n",
    "- **Repeat** until satisfied\n"
   ]
  },
  {
   "cell_type": "code",
   "execution_count": 7,
   "metadata": {},
   "outputs": [
    {
     "name": "stdout",
     "output_type": "stream",
     "text": [
      "✅ Created 2 tools for the agent:\n",
      "  - text_search: Search for games using text descriptions, genres, or themes\n",
      "  - image_search: Search for games using visual similarity to an uploaded image\n"
     ]
    }
   ],
   "source": [
    "# Create the tools for our agent\n",
    "tools = [\n",
    "    FunctionTool.from_defaults(\n",
    "        fn=text_search_tool,\n",
    "        name=\"text_search\",\n",
    "        description=\"Search for games using text descriptions, genres, or themes\"\n",
    "    ),\n",
    "    FunctionTool.from_defaults(\n",
    "        fn=image_search_tool,\n",
    "        name=\"image_search\",\n",
    "        description=\"Search for games using visual similarity to an uploaded image\"\n",
    "    )\n",
    "]\n",
    "\n",
    "print(f\"✅ Created {len(tools)} tools for the agent:\")\n",
    "for tool in tools:\n",
    "    print(f\"  - {tool.metadata.name}: {tool.metadata.description}\")\n"
   ]
  },
  {
   "cell_type": "code",
   "execution_count": 8,
   "metadata": {},
   "outputs": [
    {
     "name": "stdout",
     "output_type": "stream",
     "text": [
      "🤖 Creating the game recommendation agent...\n",
      "✅ Agent created successfully!\n"
     ]
    }
   ],
   "source": [
    "# Create the agent\n",
    "print(\"🤖 Creating the game recommendation agent...\")\n",
    "\n",
    "# Set up the service context\n",
    "embed_model = HuggingFaceEmbedding(\n",
    "    model_name=\"../models/all-MiniLM-L6-v2\"\n",
    ")\n",
    "\n",
    "from llama_index.core import Settings\n",
    "Settings.llm = llm\n",
    "Settings.embed_model = embed_model\n",
    "\n",
    "agent = ReActAgent(\n",
    "    tools=tools,\n",
    "    llm=llm,\n",
    "    verbose=True,\n",
    "    max_iterations=5,\n",
    "    streaming=False\n",
    ")\n",
    "\n",
    "print(\"✅ Agent created successfully!\")"
   ]
  },
  {
   "cell_type": "markdown",
   "metadata": {
    "vscode": {
     "languageId": "raw"
    }
   },
   "source": [
    "## Step 6: Testing Your Agent\n",
    "\n",
    "### Let's test different types of queries to see how your agent thinks and reasons!\n"
   ]
  },
  {
   "cell_type": "code",
   "execution_count": 9,
   "metadata": {},
   "outputs": [],
   "source": [
    "import nest_asyncio\n",
    "nest_asyncio.apply()"
   ]
  },
  {
   "cell_type": "code",
   "execution_count": 10,
   "metadata": {},
   "outputs": [
    {
     "name": "stdout",
     "output_type": "stream",
     "text": [
      "🔧 Testing tools directly:\n",
      "🔍 Searching for: 'furry visual novels'\n",
      "Text search result:\n",
      "Found 4 games matching 'furry visual novels':\n",
      "\n",
      "1. 🎮 Burrow of the Fallen Bear: A Gay Furry Visual Novel (Score: 1.00)\n",
      "📝 None...\n",
      "⭐ Critics: Burrow of the Fallen Bear é uma visual novel honesta quanto à...\n"
     ]
    }
   ],
   "source": [
    "# Test the tools directly to make sure they work\n",
    "print(\"🔧 Testing tools directly:\")\n",
    "\n",
    "# Test text search tool\n",
    "result = text_search_tool(\"furry visual novels\", num_results=5)\n",
    "print(\"Text search result:\")\n",
    "print(result[:200] + \"...\" if len(result) > 200 else result)"
   ]
  },
  {
   "cell_type": "code",
   "execution_count": null,
   "metadata": {},
   "outputs": [
    {
     "name": "stdout",
     "output_type": "stream",
     "text": [
      "🎮 Testing Text Search Tool:\n",
      "Query: I want to find games like The Witcher 3 with fantasy RPG elements\n",
      "\n",
      "Agent's response:\n",
      "------------------------------\n",
      "Running step init_run\n",
      "Step init_run produced event AgentInput\n",
      "Running step setup_agent\n",
      "Step setup_agent produced event AgentSetup\n",
      "Running step run_agent_step\n",
      "Step run_agent_step produced event AgentOutput\n",
      "Running step parse_agent_output\n",
      "Step parse_agent_output produced event StopEvent\n",
      "The Witcher 3 is a fantasy RPG game, so games with fantasy RPG elements include *The Witcher 3: Wild Hunt*, *Dungeons & Dragons: The Elder Scrolls*, and *Mass Effect: War of the Worlds*.\n"
     ]
    },
    {
     "name": "stdout",
     "output_type": "stream",
     "text": [
      "🔍 Searching for: 'indie games with unique art styles'\n"
     ]
    }
   ],
   "source": [
    "# Test the agent with a text query\n",
    "query1 = \"I want to find games like The Witcher 3 with fantasy RPG elements\"\n",
    "\n",
    "print(\"🎮 Testing Text Search Tool:\")\n",
    "print(f\"Query: {query1}\")\n",
    "print(\"\\nAgent's response:\")\n",
    "print(\"-\" * 30)\n",
    "\n",
    "response = await agent.run(query1)\n",
    "print(str(response))"
   ]
  },
  {
   "cell_type": "code",
   "execution_count": 12,
   "metadata": {},
   "outputs": [
    {
     "name": "stdout",
     "output_type": "stream",
     "text": [
      "\n",
      "🧪 Test 2: Complex Query with Reasoning\n",
      "==================================================\n",
      "Query: I'm looking for game that have lots of cute animals. I like cats and dogs, but I don't like humans to be in the game.\n",
      "\n",
      "Agent's response:\n",
      "------------------------------\n",
      "Running step init_run\n",
      "Step init_run produced event AgentInput\n",
      "Running step setup_agent\n",
      "Step setup_agent produced event AgentSetup\n",
      "Running step run_agent_step\n",
      "Step run_agent_step produced event AgentOutput\n",
      "Running step parse_agent_output\n",
      "Step parse_agent_output produced event StopEvent\n",
      "I'm sorry, but I can't answer the question with the provided tools. The tools available are text_search and image_search, which are designed to search for games based on text descriptions or visual similarities. I need more information to help with your query.\n"
     ]
    }
   ],
   "source": [
    "# Test 2: Complex query with reasoning\n",
    "print(\"\\n🧪 Test 2: Complex Query with Reasoning\")\n",
    "print(\"=\" * 50)\n",
    "\n",
    "query2 = \"I'm looking for game that have lots of cute animals. I like cats and dogs, but I don't like humans to be in the game.\"\n",
    "print(f\"Query: {query2}\")\n",
    "print(\"\\nAgent's response:\")\n",
    "print(\"-\" * 30)\n",
    "\n",
    "response2 = await agent.run(query2)\n",
    "print(str(response2))"
   ]
  },
  {
   "cell_type": "code",
   "execution_count": 13,
   "metadata": {},
   "outputs": [
    {
     "name": "stdout",
     "output_type": "stream",
     "text": [
      "🎮 Notebook-Friendly Demo - Test with Predefined Queries!\n",
      "============================================================\n",
      "🧪 Testing with predefined queries:\n",
      "\n",
      "Test 1: Find me puzzle games that are relaxing\n",
      "----------------------------------------\n",
      "Running step init_run\n",
      "Step init_run produced event AgentInput\n",
      "Running step setup_agent\n",
      "Step setup_agent produced event AgentSetup\n",
      "Running step run_agent_step\n",
      "Step run_agent_step produced event AgentOutput\n",
      "Running step parse_agent_output\n",
      "Step parse_agent_output produced event StopEvent\n",
      "Puzzle games that are relaxing include games like \"Pac-Man\" (which is a classic puzzle game), \"Minecraft\" (with its creative elements), and \"Sudoku\" (which is relaxing and logical). Let me know if you'd like more details!\n",
      "\n",
      "============================================================\n",
      "\n",
      "Test 2: I want NSFW games but not too violent\n",
      "----------------------------------------\n",
      "Running step init_run\n",
      "Step init_run produced event AgentInput\n",
      "Running step setup_agent\n",
      "Step setup_agent produced event AgentSetup\n",
      "Running step run_agent_step\n",
      "Step run_agent_step produced event AgentOutput\n",
      "Running step parse_agent_output\n",
      "Step parse_agent_output produced event StopEvent\n",
      "NSFW games that are not too violent are typically designed to avoid inappropriate content. You can find such games by searching for \"NSFW games not too violent\" using the text_search tool. Let me know if you'd like specific examples!\n",
      "\n",
      "============================================================\n",
      "\n",
      "Test 3: Show me indie games with unique art styles\n",
      "----------------------------------------\n",
      "Running step init_run\n",
      "Step init_run produced event AgentInput\n",
      "Running step setup_agent\n",
      "Step setup_agent produced event AgentSetup\n",
      "Running step run_agent_step\n",
      "Step run_agent_step produced event AgentOutput\n",
      "Running step parse_agent_output\n",
      "Step parse_agent_output produced no event\n",
      "Running step call_tool\n",
      "Step call_tool produced event ToolCallResult\n",
      "Running step aggregate_tool_results\n",
      "Step aggregate_tool_results produced event AgentInput\n",
      "Running step setup_agent\n",
      "Step setup_agent produced event AgentSetup\n",
      "Running step run_agent_step\n",
      "Step run_agent_step produced event AgentOutput\n",
      "Running step parse_agent_output\n",
      "Step parse_agent_output produced event StopEvent\n",
      "<think>\n",
      "Okay, so the user asked for indie games with unique art styles. I used the text_search tool with the query \"indie games with unique art styles\" and got 10 results. Now, I need to present these games in a helpful way. Let me check the examples provided. The first game is Rayman Origins, which has unique art. The second is Oddly Enough: Pied Piper with unique art. There are others like Best of the Underground, Play: Volume 2, and more. I should list them clearly, highlighting their unique aspects. Make sure to mention the art styles and the genres they cover. Also, keep the response in the same language as the user's question, which is English here. Alright, time to put it all together.\n",
      "</think>\n",
      "\n",
      "The following indie games feature unique art styles:\n",
      "\n",
      "1. **Rayman Origins** - Features surreal, dreamlike art with a focus on character interactions.  \n",
      "2. **Oddly Enough: Pied Piper** - Combines quirky, surreal concept art with gameplay mechanics.  \n",
      "3. **Best of the Underground** - Features minimalistic, abstract art and puzzle-driven gameplay.  \n",
      "4. **Play: Volume 2** - Includes puzzle-based games with creative, non-traditional art.  \n",
      "5. **And Yet It Moves** - Offers platform and puzzle games with unique, whimsical visuals.  \n",
      "6. **Divine Dynamo Flamefrit** - Features hidden, puzzle-rich environments.  \n",
      "7. **Where the Bees Make Honey** - A narrative puzzle game with abstract, artistic elements.  \n",
      "8. **Play! The Ultimate Casual Game Collection** - A mix of platform and adventure games with unique art styles.  \n",
      "\n",
      "These games blend indie creativity with distinct visual themes.\n",
      "\n",
      "============================================================\n",
      "\n",
      "Test 4: I'm looking for multiplayer games for 2-4 players\n",
      "----------------------------------------\n",
      "Running step init_run\n",
      "Step init_run produced event AgentInput\n",
      "Running step setup_agent\n",
      "Step setup_agent produced event AgentSetup\n",
      "Running step run_agent_step\n",
      "Step run_agent_step produced event AgentOutput\n",
      "Running step parse_agent_output\n",
      "Step parse_agent_output produced event StopEvent\n",
      "Multiplayer games for 2-4 players include 2D shooters, online multiplayer games, and cooperative games. Examples include \"Among Us\" and \"Overwatch.\"\n",
      "\n",
      "============================================================\n",
      "\n"
     ]
    }
   ],
   "source": [
    "import asyncio\n",
    "\n",
    "print(\"🎮 Notebook-Friendly Demo - Test with Predefined Queries!\")\n",
    "print(\"=\" * 60)\n",
    "\n",
    "# Predefined test queries\n",
    "test_queries = [\n",
    "    \"Find me puzzle games that are relaxing\",\n",
    "    \"I want NSFW games but not too violent\", \n",
    "    \"Show me indie games with unique art styles\",\n",
    "    \"I'm looking for multiplayer games for 2-4 players\"\n",
    "]\n",
    "\n",
    "print(\"🧪 Testing with predefined queries:\\n\")\n",
    "\n",
    "for i, query in enumerate(test_queries, 1):\n",
    "    print(f\"Test {i}: {query}\")\n",
    "    print(\"-\" * 40)\n",
    "    try:\n",
    "        response = asyncio.run(agent.run(query))\n",
    "        print(str(response))\n",
    "    except Exception as e:\n",
    "        print(f\"❌ Error: {e}\")\n",
    "    print(\"\\n\" + \"=\"*60 + \"\\n\")"
   ]
  },
  {
   "cell_type": "markdown",
   "metadata": {
    "vscode": {
     "languageId": "raw"
    }
   },
   "source": [
    "## Step 7: Understanding How Your Agent Works\n",
    "\n",
    "### Let's break down what just happened:\n",
    "\n",
    "1. **Query Analysis**: The agent understood what you were looking for\n",
    "2. **Tool Selection**: It chose the right tool(s) to use\n",
    "3. **Execution**: It ran the search and got results\n",
    "4. **Reasoning**: It analyzed the results and made recommendations\n",
    "5. **Response**: It formatted a helpful answer\n",
    "\n",
    "### Key Benefits of Your Agent:\n",
    "- **Multi-modal**: Can handle both text and image queries\n",
    "- **Intelligent**: Uses reasoning to understand complex requests\n",
    "- **Flexible**: Can combine multiple tools for better results\n",
    "- **Explainable**: Shows its reasoning process\n",
    "- **Local**: Everything runs on your machine\n"
   ]
  },
  {
   "cell_type": "markdown",
   "metadata": {
    "vscode": {
     "languageId": "raw"
    }
   },
   "source": [
    "## Step 8: Advanced Features & Next Steps\n",
    "\n",
    "### What You've Built:\n",
    "✅ **Multi-modal Agent**: Handles text and image queries\n",
    "✅ **Intelligent Reasoning**: Uses ReAct pattern for complex queries\n",
    "✅ **Local Processing**: Everything runs on your machine\n",
    "✅ **Tool Integration**: Seamlessly uses your existing RAG system\n",
    "\n",
    "### Next Steps to Improve Your Agent:\n",
    "\n",
    "1. **Better LLM**: Replace mock LLM with Ollama\n",
    "2. **More Tools**: Add genre filtering, platform filtering, etc.\n",
    "3. **Memory**: Add conversation memory\n",
    "4. **Custom Prompts**: Fine-tune the agent's behavior\n",
    "5. **Evaluation**: Test with real users and improve\n",
    "\n",
    "### Advanced Features to Add:\n",
    "- **Conversation Memory**: Remember previous queries\n",
    "- **User Preferences**: Learn from user feedback\n",
    "- **Multi-step Planning**: Break down complex requests\n",
    "- **Explanation Generation**: Better reasoning explanations\n",
    "- **Result Ranking**: Learn from user interactions\n"
   ]
  },
  {
   "cell_type": "code",
   "execution_count": 16,
   "metadata": {},
   "outputs": [
    {
     "name": "stdout",
     "output_type": "stream",
     "text": [
      "🚀 Next Steps to Improve Your Agent:\n",
      "==================================================\n",
      "\n",
      "1. 🔧 Install Ollama and Load a Real LLM:\n",
      "   - Install: https://ollama.ai/download\n",
      "   - Run: ollama pull llama2:7b\n",
      "   - Replace MockLLM with: llm = Ollama(model='llama2:7b')\n",
      "\n",
      "2. 🛠️ Add More Tools:\n",
      "   - Genre filtering tool\n",
      "   - Platform filtering tool\n",
      "   - Year range filtering tool\n",
      "   - User rating filtering tool\n",
      "\n",
      "3. 🧠 Add Memory:\n",
      "   - Conversation history\n",
      "   - User preferences\n",
      "   - Learning from feedback\n",
      "\n",
      "4. 🎯 Customize Behavior:\n",
      "   - Custom system prompts\n",
      "   - Domain-specific instructions\n",
      "   - Response formatting\n",
      "\n",
      "5. 📊 Evaluate and Improve:\n",
      "   - Test with real users\n",
      "   - Collect feedback\n",
      "   - Iterate and improve\n",
      "\n",
      "🎉 Congratulations! You've built your first Agentic RAG system!\n",
      "\n",
      "This is just the beginning. You can now:\n",
      "  - Deploy it as a web service\n",
      "  - Add it to your existing applications\n",
      "  - Extend it with more features\n",
      "  - Share it with others!\n",
      "\n",
      "🤔 Questions? Check out the LlamaIndex documentation:\n",
      "   https://docs.llamaindex.ai/\n",
      "\n",
      "Happy coding! 🚀\n"
     ]
    }
   ],
   "source": [
    "# Next Steps: Upgrade to Real LLM\n",
    "print(\"🚀 Next Steps to Improve Your Agent:\")\n",
    "print(\"=\" * 50)\n",
    "\n",
    "print(\"\\n1. 🔧 Install Ollama and Load a Real LLM:\")\n",
    "print(\"   - Install: https://ollama.ai/download\")\n",
    "print(\"   - Run: ollama pull llama2:7b\")\n",
    "print(\"   - Replace MockLLM with: llm = Ollama(model='llama2:7b')\")\n",
    "\n",
    "print(\"\\n2. 🛠️ Add More Tools:\")\n",
    "print(\"   - Genre filtering tool\")\n",
    "print(\"   - Platform filtering tool\")\n",
    "print(\"   - Year range filtering tool\")\n",
    "print(\"   - User rating filtering tool\")\n",
    "\n",
    "print(\"\\n3. 🧠 Add Memory:\")\n",
    "print(\"   - Conversation history\")\n",
    "print(\"   - User preferences\")\n",
    "print(\"   - Learning from feedback\")\n",
    "\n",
    "print(\"\\n4. 🎯 Customize Behavior:\")\n",
    "print(\"   - Custom system prompts\")\n",
    "print(\"   - Domain-specific instructions\")\n",
    "print(\"   - Response formatting\")\n",
    "\n",
    "print(\"\\n5. 📊 Evaluate and Improve:\")\n",
    "print(\"   - Test with real users\")\n",
    "print(\"   - Collect feedback\")\n",
    "print(\"   - Iterate and improve\")\n",
    "\n",
    "print(\"\\n🎉 Congratulations! You've built your first Agentic RAG system!\")\n",
    "print(\"\\nThis is just the beginning. You can now:\")\n",
    "print(\"  - Deploy it as a web service\")\n",
    "print(\"  - Add it to your existing applications\")\n",
    "print(\"  - Extend it with more features\")\n",
    "print(\"  - Share it with others!\")\n",
    "\n",
    "print(\"\\n🤔 Questions? Check out the LlamaIndex documentation:\")\n",
    "print(\"   https://docs.llamaindex.ai/\")\n",
    "print(\"\\nHappy coding! 🚀\")\n"
   ]
  }
 ],
 "metadata": {
  "kernelspec": {
   "display_name": ".game-env",
   "language": "python",
   "name": "python3"
  },
  "language_info": {
   "codemirror_mode": {
    "name": "ipython",
    "version": 3
   },
   "file_extension": ".py",
   "mimetype": "text/x-python",
   "name": "python",
   "nbconvert_exporter": "python",
   "pygments_lexer": "ipython3",
   "version": "3.12.0"
  }
 },
 "nbformat": 4,
 "nbformat_minor": 4
}
